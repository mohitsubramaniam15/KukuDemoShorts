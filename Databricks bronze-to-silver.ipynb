{
 "cells": [
  {
   "cell_type": "code",
   "execution_count": 0,
   "metadata": {
    "application/vnd.databricks.v1+cell": {
     "cellMetadata": {
      "byteLimit": 2048000,
      "rowLimit": 10000
     },
     "inputWidgets": {},
     "nuid": "cbe5582f-995f-4554-9717-ed2c9996b194",
     "showTitle": false,
     "tableResultSettingsMap": {},
     "title": ""
    }
   },
   "outputs": [],
   "source": [
    "# =========================================\n",
    "# bronze_to_silver.py\n",
    "# Description: Clean data using Bing Web Search to fill null descriptions\n",
    "# =========================================\n",
    "\n",
    "from pyspark.sql.functions import col, udf, when\n",
    "from pyspark.sql.types import StringType\n",
    "import requests\n",
    "import pandas \n",
    "\n",
    "# Set Spark config for Azure Data Lake Gen2\n",
    "spark.conf.set(\"fs.azure.account.key.storagemo.dfs.core.windows.net\", \"\")\n",
    "\n",
    "# Paths\n",
    "bronze_path = \"abfss://bronze@kkstoragemo.dfs.core.windows.net/BooksDataset50Values.csv\"\n",
    "silver_path = \"abfss://silver@kkstoragemo.dfs.core.windows.net/BooksDatasetCleaned.parquet\""
   ]
  },
  {
   "cell_type": "code",
   "execution_count": 0,
   "metadata": {
    "application/vnd.databricks.v1+cell": {
     "cellMetadata": {
      "byteLimit": 2048000,
      "rowLimit": 10000
     },
     "inputWidgets": {},
     "nuid": "ddbb8b28-f991-4c67-81fa-10194e1a142d",
     "showTitle": false,
     "tableResultSettingsMap": {},
     "title": ""
    }
   },
   "outputs": [],
   "source": [
    "BING_API_KEY = \"\""
   ]
  },
  {
   "cell_type": "code",
   "execution_count": 0,
   "metadata": {
    "application/vnd.databricks.v1+cell": {
     "cellMetadata": {
      "byteLimit": 2048000,
      "rowLimit": 10000
     },
     "inputWidgets": {},
     "nuid": "85b34095-ef8b-45a4-b68c-44f4f15ff3e3",
     "showTitle": false,
     "tableResultSettingsMap": {},
     "title": ""
    }
   },
   "outputs": [],
   "source": [
    "# Read CSV from Bronze\n",
    "df_bronze = spark.read.option(\"header\", \"true\").csv(bronze_path)\n",
    "\n",
    "# Define function to fetch description and category from Bing\n",
    "def bing_fetch_info(title):\n",
    "    if not title:\n",
    "        return None, None\n",
    "    try:\n",
    "        headers = {\"Ocp-Apim-Subscription-Key\": BING_API_KEY}\n",
    "        params = {\"q\": f\"{title} book summary and genre\", \"count\": 1, \"mkt\": \"en-IN\"}\n",
    "        response = requests.get(\"https://api.bing.microsoft.com/v7.0/search\", headers=headers, params=params)\n",
    "        results = response.json()\n",
    "        if \"webPages\" in results and results[\"webPages\"][\"value\"]:\n",
    "            snippet = results[\"webPages\"][\"value\"][0][\"snippet\"]\n",
    "            # Try to infer a possible category from the snippet\n",
    "            possible_category = None\n",
    "            for word in snippet.split(\",\"):\n",
    "                if \"genre\" in word.lower() or \"category\" in word.lower():\n",
    "                    possible_category = word.strip()\n",
    "                    break\n",
    "            return snippet, possible_category\n",
    "    except Exception as e:\n",
    "        print(f\"Error fetching Bing info for '{title}': {e}\")\n",
    "        return None, None\n",
    "    return None, None\n",
    "\n",
    "# UDF returning struct<Description:string, Category:string>\n",
    "@udf(\"struct<Description:string, Category:string>\")\n",
    "def bing_info_udf(title):\n",
    "    desc, category = bing_fetch_info(title)\n",
    "    return {\"Description\": desc, \"Category\": category}\n",
    "\n",
    "# Apply UDF only where Description or Category is null\n",
    "df_enriched = df_bronze.withColumn(\n",
    "    \"bing_info\", when((col(\"Description\").isNull()) | (col(\"Category\").isNull()), bing_info_udf(col(\"Title\")))\n",
    ")\n",
    "\n",
    "# Fill missing values using Bing info\n",
    "df_silver = df_enriched.withColumn(\n",
    "    \"Description\",\n",
    "    when(col(\"Description\").isNull(), col(\"bing_info.Description\")).otherwise(col(\"Description\"))\n",
    ").withColumn(\n",
    "    \"Category\",\n",
    "    when(col(\"Category\").isNull(), col(\"bing_info.Category\")).otherwise(col(\"Category\"))\n",
    ").drop(\"bing_info\")\n",
    "\n",
    "# Save to Silver\n",
    "df_silver.write.mode(\"overwrite\").parquet(silver_path)"
   ]
  },
  {
   "cell_type": "code",
   "execution_count": 0,
   "metadata": {
    "application/vnd.databricks.v1+cell": {
     "cellMetadata": {
      "byteLimit": 2048000,
      "rowLimit": 10000
     },
     "inputWidgets": {},
     "nuid": "b362f0ea-c72d-4ece-940d-66c8f3a9d2d7",
     "showTitle": false,
     "tableResultSettingsMap": {},
     "title": ""
    }
   },
   "outputs": [
    {
     "output_type": "display_data",
     "data": {
      "text/html": [
       "<style scoped>\n",
       "  .table-result-container {\n",
       "    max-height: 300px;\n",
       "    overflow: auto;\n",
       "  }\n",
       "  table, th, td {\n",
       "    border: 1px solid black;\n",
       "    border-collapse: collapse;\n",
       "  }\n",
       "  th, td {\n",
       "    padding: 5px;\n",
       "  }\n",
       "  th {\n",
       "    text-align: left;\n",
       "  }\n",
       "</style><div class='table-result-container'><table class='table-result'><thead style='background-color: white'><tr><th>Title</th><th>Authors</th><th>Description</th><th>Category</th><th>Publisher</th><th>Publish Date</th><th>Price</th></tr></thead><tbody><tr><td>Goat Brothers</td><td>By Colton, Larry</td><td>Genres Nonfiction Memoir College Biography. Hardcover. First published January 1, 1993. Book details & editions. ... thus his 1960s biography held my interest. Although when he was in a frat house with his Goat Brothers, I was in the barracks with my card playing, book reading and bowling buddies. ... his story and the Brothers K book overlap. 1960s baseball. (Duncan played for the high school closest to the one I attended.) The Brothers K</td><td> History , General</td><td>Doubleday</td><td>Friday, January 1, 1993</td><td>Price Starting at $8.79</td></tr><tr><td>The Missing Person</td><td>By Grumbach, Doris</td><td>Book Details. Title: Missing Person Author: Patrick Modiano Translator: Daniel Weissbort Pages: 168 Published: September 5, 1978 Genres: Fiction, Mystery, Literary Fiction. Synopsis of Missing Person Introduction to Guy Roland. Set against the haunting backdrop of Paris, “Missing Person” opens with Guy Roland. For ten years, he has lived in ...</td><td> Fiction , General</td><td>Putnam Pub Group</td><td>Sunday, March 1, 1981</td><td>Price Starting at $4.99</td></tr><tr><td>Don't Eat Your Heart Out Cookbook</td><td>By Piscatella, Joseph C.</td><td>With over 939,000 copies in print, used and recommended by more than 5,500 hospitals, and now completely revised and updated, Don't Eat Your Heart Out Cookbook is the bible for anyone seeking a heart-healthy diet. Incorporating the latest scientific and nutritional studies, lay expert Joe Piscatella outlines an effective plan for life-long heart health and explains the science behind it in plain-speaking language we all can understand. Packed with 400 healthy, low-fat recipes-soups, salads ...</td><td> Cooking , Reference</td><td>Workman Pub Co</td><td>Thursday, September 1, 1983</td><td>Price Starting at $4.99</td></tr><tr><td>When Your Corporate Umbrella Begins to Leak: A Handbook for White Collar Re-Employment</td><td>By Davis, Paul D.</td><td>Amazon.in - Buy When Your Corporate Umbrella Begins to Leak: A Handbook for White Collar Re-Employment book online at best prices in India on Amazon.in. Read When Your Corporate Umbrella Begins to Leak: A Handbook for White Collar Re-Employment book reviews & author details and more at Amazon.in. Free delivery on qualified orders.</td><td>null</td><td>Natl Pr Books</td><td>Monday, April 1, 1991</td><td>Price Starting at $4.99</td></tr><tr><td>Amy Spangler's Breastfeeding : A Parent's Guide</td><td>By Spangler, Amy</td><td>An illustration of an open book. Texts. An illustration of two cells of a film strip. Video. An illustration of an audio speaker. Audio An illustration of a 3.5\" floppy disk. ... Breastfeeding : a parent's guide by Spangler, Amy. Publication date 2006 Topics Breastfeeding, Breast Feeding Publisher Atlanta : Amy Spangler Collection internetarchivebooks; americana; inlibrary; printdisabled Contributor Internet Archive Language English Item Size 208.8M . Cover title</td><td>null</td><td>Amy Spangler</td><td>Saturday, February 1, 1997</td><td>Price Starting at $5.32</td></tr><tr><td>The Foundation of Leadership: Enduring Principles to Govern Our Lives</td><td>By Short, Bo</td><td>As a result, those who read this book will find themselves aspiring to new levels of leadership and success. The author explores five specific qualities -- vision, courage, perseverance, responsibility and character -- that serve as the foundation of true leadership. These are the hallmark qualities of our Founding Fathers.</td><td>null</td><td>Excalibur Press</td><td>Wednesday, January 1, 1997</td><td>Price Starting at $6.06</td></tr><tr><td>Chicken Soup for the Soul: 101 Stories to Open the Heart and Rekindle the Spirit</td><td>By Canfield, Jack (COM) and Hansen, Mark Victor (COM)</td><td>An illustration of an open book. Texts. An illustration of two cells of a film strip. Video. An illustration of an audio speaker. Audio An illustration of a 3.5\" floppy disk. ... Chicken soup for the soul : 101 stories to open the heart & rekindle the spirit ... 101 stories to open the heart & rekindle the spirit by Canfield, Jack, 1944-; Hansen, Mark Victor. Publication date 1993 Topics Spiritual life Publisher</td><td> Self-help , Personal Growth , Self-Esteem</td><td>Health Communications Inc</td><td>Saturday, May 1, 1993</td><td>Price Starting at $4.99</td></tr><tr><td>Journey Through Heartsongs</td><td>By Stepanek, Mattie J. T.</td><td>Collects poems written by the eleven-year-old muscular dystrophy patient, sharing his feelings and thoughts about his life, the deaths of his siblings, nature, faith, and hope.</td><td> Poetry , General</td><td>VSP Books</td><td>Saturday, September 1, 2001</td><td>Price Starting at $19.96</td></tr><tr><td>In Search of Melancholy Baby</td><td>By Aksyonov, Vassily, Heim, Michael Henry, and Bouis, Antonina W.</td><td>The Russian author offers an affectionate chronicle of life in the United States, with discussions of such topics as the European charm of Washington, D.C., and the American immigration bureaucracy</td><td> Biography & Autobiography , General</td><td>Random House</td><td>Monday, June 1, 1987</td><td>Price Starting at $4.99</td></tr><tr><td>Christmas Cookies</td><td>By Eakin, Katherine M. and Deaman, Joane (EDT)</td><td>The Gift of the Christmas Cookie Story Summary. The Gift of the Christmas Cookie by Dandi Daley Mackall is a realistic Christian fiction story set during the Depression-Era 1930s. Jack and his mother face a pained separation from a beloved husband and father when he hops a train west to find work to support his family. ... Bite-Size Holiday Lessons by Amy Krouse Rosenthal and illustrated by Jane Dyer is a charmingly-illustrated book that uses baking Christmas cookies as a metaphor for a well ...</td><td> Cooking , General</td><td>Oxmoor House</td><td>Sunday, June 1, 1986</td><td>Price Starting at $12.98</td></tr><tr><td>The Dieter's Guide to Weight Loss During Sex</td><td>By Smith, Richard</td><td>\"A humor classic, this tongue-in-cheek diet plan bases calorie counts on sexual activity and charts the exact number of calories burned.\"\"You and your friends can read this book aloud while sitting on the beach and shed a combined total of ten thousand calories in thirty-three minutes. Yes</td><td> it's that funny.\"\"-Glamour. Selection of the Quality Paperback Book and Playboy book clubs and a New York Times Bestseller. 935</td><td>000 copies in print.\"</td><td> Health & Fitness , Diet & Nutrition , Diets</td><td>Workman Publishing Company</td></tr><tr><td>Germs : Biological Weapons and America's Secret War</td><td>By Miller, Judith, Engelberg, Stephen, and Broad, William J.</td><td>Deadly germs sprayed in shopping malls, bomb-lets spewing anthrax spores over battlefields, tiny vials of plague scattered in Times Square -- these are the poor man's hydrogen bombs, hideous weapons of mass destruction that can be made in a simple laboratory. In this groundbreaking work of investigative journalism, Judith Miller, Stephen Engelberg, and William Broad of The New York Times uncover the truth about biological weapons and show why bio-warfare and bio-terrorism are fast becoming our worst national nightmare.  Among the startling revelations in Germs:   How the CIA secretly built and tested a model of a Soviet-designed germ bomb, alarming some officials who felt the work pushed to the limits of what is permitted by the global treaty banning germ arms. How the Pentagon embarked on a secret effort to make a superbug. Details about the Soviet Union's massive hidden program to produce biological weapons, including new charges that germs were tested on humans. How Moscow's scientists made an untraceable germ that instructs the body to destroy itself. The Pentagon's chaotic efforts to improvise defenses against Iraq's biological weapons during the 1991 Persian Gulf War. How a religious cult in Oregon in the 1980s sickened hundreds of Americans in a bio-terrorism attack that the government played down to avoid panic and copycat strikes. Plans by the U.S. military in the 1960s to attack Cuba with germ weapons.   Germs also shows how a small group of scientists and senior officials persuaded President Bill Clinton to launch a controversial multibillion-dollar program to detect a germ attack on U.S. soil and to aid its victims -- a program that, so far, is struggling to provide real protection.  Based on hundreds of interviews with scientists and senior officials, including President Clinton, as well as on recently declassified documents and on-site reporting from the former Soviet Union's sinister bio-weapons labs, Germs shows us bio-warriors past and present at work at their trade. There is the American scientist who devoted his professional life to perfecting biological weapons, and the Nobel laureate who helped pioneer the new biology of genetically modified germs and is now trying to stop its misuse. We meet former Soviet scientists who made enough plague, smallpox, and anthrax to kill everyone on Earth and whose expertise is now in great demand by terrorists, rogue states, and legitimate research labs alike.  A frightening and unforgettable narrative of cutting-edge science and spycraft, Germs shows us why advances in biology and the spread of germ weapons expertise to such countries as Iran, Iraq, and North Korea could make germs the weapon of the twenty-first century.</td><td> Technology & Engineering , Military Science</td><td>Simon & Schuster</td><td>Monday, October 1, 2001</td><td>Price Starting at $4.99</td></tr><tr><td>The Genesis of Ethics</td><td>By Visotzky, Burton L.</td><td>Genres Religion Judaism. 211 pages, Hardcover. First published September 9, 1996. Book details & editions ... This is a book that analyzes the \"evolution\" of ethics as per the biblical book of Genesis. It explores the contexts of the Biblical stories and discusses the lessons taught by the Jewish and Christian traditions on morals and values and looks at how the actions of the characters would be considered wrong by today's ethical standards.</td><td> Religion , Ethics</td><td>Crown</td><td>Sunday, September 1, 1996</td><td>Price Starting at $4.99</td></tr><tr><td>The Good Book: Reading the Bible with Mind and Heart</td><td>By Gomes, Peter J.</td><td>\"\"\"The Bible and the social and moral consequences that derive from its interpretation are all too important to be left in the hands of the pious or the experts</td><td> and too significant to be ignored and trivialized by the uninformed and indifferent.\"</td><td> Religion , Biblical Biography , General</td><td>Harper Perennial</td><td>Friday, May 1, 1998</td></tr><tr><td>All over but the Shoutin'</td><td>By Bragg, Rick</td><td>A New York Times Notable Book of the YearThis haunting, harrowing, gloriously moving recollection of a life on the American margin is the story of Rick Bragg, who grew up dirt-poor in northeastern Alabama, seemingly destined for either the cotton mills or the penitentiary, and instead became a Pulitzer Prize-winning reporter for The New York Times. It is the story of Bragg's father, a hard-drinking man with a murderous temper and the habit of running out on the people who needed him most.But at the center of this soaring memoir is Bragg's mother, who went eighteen years without a new dress so that her sons could have school clothes and picked other people's cotton so that her children wouldn't have to live on welfare alone. Evoking these lives--and the country that shaped and nourished them--with artistry, honesty, and compassion, Rick Bragg brings home the love and suffering that lie at the heart of every family. The result is unforgettable.</td><td> Biography & Autobiography , Personal Memoirs</td><td>Vintage</td><td>Tuesday, September 1, 1998</td><td>Price Starting at $4.89</td></tr><tr><td>Oilers and Sweepers and Other Stories</td><td>By Dennison, George</td><td>An illustration of an open book. Books. An illustration of two cells of a film strip. Video. An illustration of an audio speaker. Audio. An illustration of a 3.5\" floppy disk. Software. An illustration of two photographs. Images. An illustration of a heart ... Oilers and sweepers and other stories by Dennison, George, 1925-Publication date 1979 Publisher New York : Random House Collection internetarchivebooks; inlibrary; printdisabled Contributor Internet Archive Language English Item Size ...</td><td>null</td><td>Random House</td><td>Monday, January 1, 1979</td><td>Price Starting at $5.00</td></tr><tr><td>Prince William</td><td>By Garner, Valerie</td><td>In Prince William, experienced biography author Joann F. Price details the prince's life thus far, including his experiences at the prestigious Eton College and the University of St. Andrews in Scotland, his global travels with his glamorous and beloved mother and brother, his military service, and his engagement and upcoming wedding to longtime girlfriend Kate Middleton. The book also reveals important aspects of the Royal Family and explains how being born into it—an integral and highly ...</td><td>null</td><td>Benford Books</td><td>Thursday, January 1, 1998</td><td>Price Starting at $4.99</td></tr><tr><td>The Emperor's New Mind</td><td>By Penrose, Roger</td><td>The Emperor's New Mind: Concerning Computers, Minds and The Laws of Physics is a 1989 book by the mathematical physicist Roger Penrose.. Penrose argues that human consciousness is non-algorithmic, and thus is not capable of being modeled by a conventional Turing machine, which includes a digital computer.Penrose hypothesizes that quantum mechanics plays an essential role in the understanding of human consciousness.The collapse of the quantum wavefunction is seen as playing an important role ...</td><td> Philosophy , General</td><td>Penguin Books</td><td>Tuesday, January 1, 1991</td><td>Price Starting at $4.99</td></tr><tr><td>Touching Fire: Erotic Writings by Women</td><td>By Thornton, Louise, Sturtevant, Jan, and Sumrall, Amber Coverdale (EDT)</td><td>References to this book. Daughters of Africa: An International Anthology of Words and Writings by ... Margaret Busby Snippet view - 1992. Loose Women, Lecherous Men: A Feminist Philosophy of Sex Linda LeMoncheck Limited preview - 1997. Bibliographic information. Title: Touching Fire: Erotic Writings by Women: Editors: Louise Thornton, Jan Strurtevant, Amber Coverdale Sumrall: Edition: revised:</td><td>null</td><td>Carroll & Graf Pub</td><td>Monday, October 1, 1990</td><td>Price Starting at $5.29</td></tr><tr><td>Hill Rat: Blowing the Lid Off Congress</td><td>By Jackley, John L.</td><td>\"As a top aide to powerful Texas Congressman Ronald Coleman, John Jackley watched the nation's highest elected officials lie, manipulate media images, and spend millions of taxpayer dollars to stay in power. The mind-boggling scope of the abuse of perks and privilege by both legislators and their staffers finally shocked him into reality.What began as a secret journal for his children to clear his conscience has become Hill Rat, a journey behind Congress' closed doors and into the corrupt back alleys of power. With both humor and outrage, Jackley reveals how the promise of Congress has been hijacked and corrupted by the current crop of careerist incumbents. \"\"Today</td><td>\"\" he writes</td><td> \"\"a successful congressman has the fundraising ability of a hooker trying to make cab fare home and the morals of a big-time football coach!\"\"His account is laced with the names of Capitol Hill's most prominent legislators--Majority Leader Richard Gephardt</td><td> Speaker of the House Thomas Foley</td><td> Ron Dellums</td></tr><tr><td>The Great ABC Treasure Hunt: A Hidden Picture Alphabet Book (Time-Life Early Learning Program)</td><td>By Time-Life for Children (Firm) (COR), Singer, Muff, and Hoggan, Pat (ILT)</td><td>Amazon.in - Buy The Great ABC Treasure Hunt : a Hidden Picture Alphabet Book: Time-Life Early Learning Program book online at best prices in India on Amazon.in. Read The Great ABC Treasure Hunt : a Hidden Picture Alphabet Book: Time-Life Early Learning Program book reviews & author details and more at Amazon.in. Free delivery on qualified orders.</td><td> Juvenile Nonfiction , General</td><td>Time Life Education</td><td>Friday, February 1, 1991</td><td>Price Starting at $5.29</td></tr><tr><td>Personality of the Cat</td><td>By Aymar, Brandt (EDT)</td><td>A delightful collection of reflections on the feline contains selections from famous artists, writers, poets, and essayists, such as Pablo Picasso, Rudyard Kipling, T. S. Eliot, and others.</td><td> Pets , Cats , General</td><td>Bonanza Books</td><td>Sunday, January 1, 1978</td><td>Price Starting at $5.41</td></tr><tr><td>Murdering Mr. Monti: A Merry Little Tale of Sex and Violence</td><td>By Viorst, Judith</td><td>“Highly entertaining…Sit back in the bubbles and enjoy.” —The Philadelphia Inquirer Brenda Kovner, a newspaper advice columnist and amateur psychologist in 1990s Washington DC, doesn’t consider herself intrusive, just extremely interested in helping. If she knows the answer, she can’t shut up—even if no one’s listening. Since Brenda knows what’s best—for everyone—she secretly decides she must murder her son Wally’s prospective father-in-law, before he can get to Wally ...</td><td> Fiction , General</td><td>Simon & Schuster</td><td>Saturday, January 1, 1994</td><td>Price Starting at $5.29</td></tr><tr><td>In Re Alger Hiss:  Petition for a Writ of Error Coram Nobis</td><td>By Edith Tiger</td><td>Access-restricted-item true Addeddate 2022-08-31 09:01:29 Associated-names Tiger, Edith; Rabinowitz, Victor Autocrop_version</td><td>null</td><td>Hill & Wang</td><td>Tuesday, May 1, 1979</td><td>Price Starting at $10.99</td></tr><tr><td>Black Holes and Baby Universes and Other Essays</td><td>By Hawking, Stephen W.</td><td>This book is a collection of essays and lectures written by Hawking, mainly about the makeup of black holes, and why they might be nodes from which other universes grow. Hawking discusses black hole thermodynamics, special relativity, general relativity, and quantum mechanics.Hawking also describes his life when he was young, and his later experience of motor neurone disease.The book also includes an interview with Professor Hawking.</td><td> Biography & Autobiography , General</td><td>Bantam</td><td>Friday, October 1, 1993</td><td>Price Starting at $5.29</td></tr><tr><td>Relativity: The Special and the General Theory</td><td>By Albert Einstein</td><td>The original 1920 English publication of the paper. Relativity: The Special and the General Theory (German: Über die spezielle und die allgemeine Relativitätstheorie) is a popular science book by Albert Einstein.It began as a short paper and was eventually expanded into a book written with the aim of explaining the special and general theories of relativity. It was published in German in 1916 and translated into English in 1920.</td><td>null</td><td>Three Rivers Press</td><td>Tuesday, August 1, 1961</td><td>Price Starting at $8.79</td></tr><tr><td>Betrayal : How the Clinton Administration Undermined American Security</td><td>By Gertz, Bill</td><td>\"Gertz, writer for the Moonie-influenced  Washington Times  newspaper and a reporter  with the highest right-wing credentials (including praise from Rush Limbaugh and G. Gordon Liddy on the jacket) uses declassified documents and unnamed Pentagon sources to recount how President Clinton has weakened the military and made innumerable secret deals with \"\"enemy\"\" countries. Annotation c. Book News</td><td> Inc.</td><td> Portland</td><td> OR (booknews.com)\"</td><td> Political Science , General</td></tr><tr><td>Shadow Song</td><td>By Kay, Terry</td><td>\"It was a wonderful summer, a great memory, the kind of love everybody ought to have. It changed my life - or almost did - and I think about it more than I should, but that was a long time ago.Amid the breathtaking beauty of the Catskill Mountains, Avrum Feldman listened to the haunting voice of Amelita Galli-Curci ringing over the Shandaken Valley - a voice no one else could hear. When he died at age one hundred six, his obsession for the famous opera diva had lasted three-quarters of a century. Most people considered Avrum crazy, someone preoccupied with romantic nonsense. But Madison Lee \"\"Bobo\"\" Murphy was not among them</td><td> for he</td><td> too</td><td> had a love that changed his life</td><td> or almost did: Amy Lourie.In the summer of 1955</td></tr><tr><td>Undercurrents: A Therapist's Reckoning With Her Own Depression</td><td>By Manning, Martha</td><td>An illustration of an open book. Books. An illustration of two cells of a film strip. Video. An illustration of an audio speaker. Audio An illustration of a 3.5\" floppy disk. ... Undercurrents : a therapist's reckoning with her own depression Bookreader Item Preview ... Undercurrents : a therapist's reckoning with her own depression by Manning, Martha. Publication date 1994</td><td> Psychology , General</td><td>HarperCollins</td><td>Sunday, January 1, 1995</td><td>Price Starting at $5.29</td></tr><tr><td>The Road Less Traveled and Beyond: Spiritual Growth in an Age of Anxiety</td><td>By Peck, M. Scott</td><td>The culmination of a lifetime of Dr. M. Scott Peck’s counseling, lecturing, and writing, and the conclusion of the classic bestselling Road trilogy, The Road Less Traveled and Beyond leads us to a deeper awareness of how to live rich, fulfilling lives in a world fraught with stress and anxiety. With the rare combination of profound psychological insight and deep spirituality that has already spoken to millions of readers, Dr. Peck talks about decision making and the choices we make every ...</td><td> Psychology , Psychopathology , Anxieties & Phobias</td><td>Touchstone</td><td>Thursday, January 1, 1998</td><td>Price Starting at $4.99</td></tr><tr><td>The Kiss: A Memoir</td><td>By Harrison, Kathryn</td><td>The memoir received mixed reviews. The New York Times considered it \"a powerful piece of writing, a testament to evil and hope.\"; [2]. The events in The Kiss are reflected in the plots and themes of her first three novels, published before The Kiss. [3] In The New York Times Book Review, Susan Cheever wrote, \"The story of an intellectually powerful man and his consuming desire to ravish an innocent, almost preconscious, young woman (sometimes his daughter) has often been told—Zeus, Lewis ...</td><td> Family & Relationships , Love & Romance</td><td>Random House</td><td>Saturday, March 1, 1997</td><td>Price Starting at $5.29</td></tr><tr><td>Codebreakers' Victory: How the Allied Cryptogaphers Won World War II</td><td>By Haufler, Hervie</td><td>\"For the first time ever, veteran World War II cryptographer Hervie Haufler details how American and British codebreakers were the decisive factor in the Allied victory. From the Purple Machine to the Navajo Talkers to the breaking of Japan's JN-25 Naval Code to the shadowy world of decoding units like Hut-8 in Bletchley Park, he shows how crucial information-often obtained by surreptitious and violent means-was the decisive edge in the Battle of Britain, at Midway and against the U-Boats in the North Atlantic, and how Allied intelligence saved the Soviet Union from almost certain defeat.  In an accessible account based on years of research, interviews and exclusive access to previously top-secret archives, Haufler demonstrates how cryptography enabled Nimitz and MacArthur to persevere in the Pacific and helped Eisenhower and Patton mount the assaults on Normandy. In compelling detail, Haufler shows us how it was done-as only one who was on the frontlines of the \"\"secret war\"\" could tell it.\"</td><td> History , Military , World War II</td><td>NAL Trade</td><td>Saturday, November 1, 2003</td><td>Price Starting at $5.29</td></tr><tr><td>A Manual for Writers of Term Papers, Theses, and Dissertations, Fifth Edition</td><td>By Turabian, Kate L.</td><td>Title: A manual for writers of research papers, theses, and dissertations : Chicago Style for students and researchers / Kate L. Turabian ; revised by Wayne C. Booth, Gregory G. Colomb, Joseph M. Williams, Joseph Bizup, William T. FitzGerald, and the University of Chicago Press editorial staff.</td><td>null</td><td>University of Chicago Press</td><td>Thursday, January 1, 1987</td><td>Price Starting at $4.99</td></tr><tr><td>The Price of Loyalty: George W. Bush, the White House, and the Education of Paul O'Neill</td><td>By Suskind, Ron</td><td>An illustration of an open book. Texts. An illustration of two cells of a film strip. Video. An illustration of an audio speaker. Audio An illustration of a 3.5\" floppy disk. ... The price of loyalty : George W. Bush, the White House, and the education of Paul O'Neill ... George W. Bush, the White House, and the education of Paul O'Neill by Suskind, Ron. Publication date 2004</td><td> Political Science , Government , Executive Branch</td><td>Simon & Schuster</td><td>Thursday, January 1, 2004</td><td>Price Starting at $8.79</td></tr><tr><td>Best New American Voices 2003</td><td>By Kulka, John (EDT), Danford, Natalie (EDT), and Oates, Joyce Carol (EDT)</td><td>Since its launch in 2000, the Best New American Voices series has been acclaimed for the range and originality of its selections, which represent the writers who promise to become the literary stars of tomorrow. The 2003 collection continues the tradition, featuring innovative, powerful stories selected by one of our finest writers of contemporary fiction, Joyce Carol Oates. With pieces culled from more than one hundred prestigious writing programs around the country and Canada, including the Iowa Writers' Workshop and the Sewanee Conference, this volume showcases a remarkable array of talent--and offers the excitement of discovering a new generation of writers.A Harvest Original</td><td> Fiction , Anthologies (multiple authors)</td><td>Harvest Books</td><td>Tuesday, October 1, 2002</td><td>Price Starting at $5.29</td></tr><tr><td>Escape from the CIA: How the CIA Won and Lost the Most Important KGB Spy Ever to Defect to the U.S.</td><td>By Kessler, Ronald</td><td>Escape from the CIA : how the CIA won and lost the most important KGB spy ever to defect to the U.S. by Kessler, Ronald, 1943-</td><td> Political Science , General</td><td>Pocket Books</td><td>Monday, April 1, 1991</td><td>Price Starting at $5.29</td></tr><tr><td>Meditations: On the Monk Who Dwells in Daily Life</td><td>By Moore, Thomas</td><td>Sometimes in their chanting monks will land upon a note and sing it in florid fashion, one syllable of text for fifty notes of chant. Melisma, they call it.Living a melismatic life in imitation of plainchant, we may stop on an experience, a place, a person, or a memory and rhapsodize in imagination. Some like to meditate or contemplate melismatically, while others prefer to draw, build, paint, or dance whatever their eye has fallen upon.Living one point after another, is one form of experience, and it can be emphatically productive. But stopping for melisma gives the soul its reason for being.</td><td> Religion , General</td><td>HarperCollins</td><td>Tuesday, November 1, 1994</td><td>Price Starting at $4.99</td></tr><tr><td>Links Lore</td><td>By Stevens, Peter F.</td><td>The Truth about Castor: Castor, believed dead, returns with complex feelings, revealing the emotional core of the story. Athena’s Betrayal: Athena aligns with Lore as a means of accessing revenge against her sister Artemis. Wrath’s Ambitions: Wrath, the new god, seeks to eliminate all gods, complicating Lore’s quest for vengeance. Family Secrets: Lore discovers hidden truths about her lineage that redefine her destiny. Outcome of the Agon: The conclusion leaves the fate of the gods and ...</td><td> Sports & Recreation , History</td><td>POTOMAC BOOKS</td><td>Thursday, June 1, 2000</td><td>Price Starting at $5.29</td></tr><tr><td>Jackie by Josie: A Novel</td><td>By Preston, Caroline</td><td>Follows a thirtyish graduate who unexpectedly finds herself helping a celebrity biographer research the life of Jacqueline Kennedy Onassis, and ends up discovering surprising parallels between her own life and that of the queen of Camelot</td><td> Fiction , Literary</td><td>Scribner</td><td>Sunday, March 1, 1998</td><td>Price Starting at $4.99</td></tr><tr><td>Joshua and the City</td><td>By Girzone, Joseph F.</td><td>A contemporary city faces turmoil and devastation until it is visited by the serene figure of Joshua, who presents an alternative, love-based approach to life while addressing such issues as poverty, racism, and AIDS. 150,000 first printing. $150,000 ad/promo.</td><td> Religion , Inspirational</td><td>Doubleday</td><td>Wednesday, March 1, 1995</td><td>Price Starting at $5.29</td></tr><tr><td>The Book of Courtly Love: The Passionate Code of the Troubadours</td><td>By Hopkins, Andrea</td><td>A treasury of French medieval lore combines the tales of Lancelot and Guinevere, Tristan and Isolde, Troilus and Criseyde, and several songs and poems with sixty accompanying illustrations from classic manuscripts and romantic art.</td><td>null</td><td>HarperCollins</td><td>Tuesday, November 1, 1994</td><td>Price Starting at $5.29</td></tr><tr><td>How Good Do We Have to Be? A New Understanding of Guilt and Forgiveness</td><td>By Kushner, Harold S.</td><td>From the author of When Bad Things Happen to Good People comes an inspiring new bestseller that puts human feelings of guilt and inadequacy in perspective - and teaches us how we can learn to accept ourselves and others even when we and they are less than perfect. How Good Do We Have to Be? is for everyone who experiences that sense of guilt and disappointment. Harold Kushner, writing with his customary generosity and wisdom, shows us how human life is too complex for anyone to live it without making mistakes, and why we need not fear the loss of God's love when we are less than perfect. Harold Kushner begins by offering a radically new interpretation of the story of Adam and Eve, which he sees as a tale of Paradise Outgrown rather than Paradise Lost: eating from the Tree of Knowledge was not an act of disobedience, but a brave step forward toward becoming human, complete with the richness of work, sexuality and child-rearing, and a sense of our mortality. Drawing on modern literature, psychology, theology,,and his own thirty years of experience as a congregational rabbi, Harold Kushner reveals how acceptance and forgiveness can change our relationships with the most important people in our lives and help us meet the bold and rewarding challenge of being human.</td><td> Religion , Psychology of Religion</td><td>Back Bay Books</td><td>Monday, September 1, 1997</td><td>Price Starting at $4.99</td></tr><tr><td>Eat More, Weigh Less: Dr. Dean Ornish's Life Choice Program for Losing Weight Safely While Eating Abundantly</td><td>By Ornish, Dean and Brown, Shirley Elizabeth (EDT)</td><td>Amazon.in - Buy Eat More, Weigh Less: Dr. Dean Ornish's Life Choice Program for Losing Weight Safely While Eating Abundantly book online at best prices in India on Amazon.in. Read Eat More, Weigh Less: Dr. Dean Ornish's Life Choice Program for Losing Weight Safely While Eating Abundantly book reviews & author details and more at Amazon.in. Free delivery on qualified orders.</td><td> Cooking , Health & Healing , Low Fat</td><td>William Morrow Paperbacks</td><td>Friday, December 1, 2000</td><td>Price Starting at $5.29</td></tr><tr><td>Majorca: Culture and Life</td><td>By Konemann Inc. (EDT)</td><td>Which non-fiction books about Mallorca would you recommend to someone moving to the island? That’s a question I’ve been asked a few times, so I thought I’d answer it in this post. We arrived to live in rural Mallorca in 2004 with one thumping good book about the island (in English): Majorca – Culture and Life (Könemann). It had been a ...</td><td> Photography , Subjects & Themes , Regional</td><td>Konemann</td><td>Thursday, June 1, 2000</td><td>Price Starting at $8.83</td></tr><tr><td>Written by Herself: Autobiographies of American Women: An Anthology</td><td>By Conway, Jill Ker (EDT)</td><td>The bestselling author of The Road from Coorain presents an extraordinarily powerful anthology of the autobiographical writings of 25 women, literary predecessors and contemporaries that include Jane Addams, Zora Neale Hurst, Harriet Jacobs, Ellen Glasgow, Maya Angelou, Sara Josephine Baker, Margaret Mead, Gloria Steinem, and Maxine Hong Kingston.</td><td> Biography & Autobiography , Women</td><td>Vintage</td><td>Sunday, November 1, 1992</td><td>Price Starting at $4.99</td></tr><tr><td>The Universe of Galaxies</td><td>By Hodge, Paul</td><td>In The Universe, Murdin draws on his expertise in the field to explain difficult concepts such as black holes, nebulae, and dark matter and relates them to the most important characters and events in the history of our Universe: powerful explosions, the largest planets, galaxies, and celestial bodies. Structured in a clear, accessible fashion as a “biography” of our Universe, this history begins at the Big Bang and proceeds stage by stage through the story of our cosmos.</td><td>null</td><td>W H Freeman & Co</td><td>Monday, October 1, 1984</td><td>Price Starting at $5.29</td></tr><tr><td>Ice Bound: A Doctor's Incredible Battle For Survival at the South Pole</td><td>By Nielsen, Jerri and Vollers, Maryanne</td><td>Her book, Ice Bound a Doctor's Incredible Battle For Survival at the South Pole, co-written with Maryanne Vollers, fit every criteria I have for a great read: engrossing plot (which I remember in more detail than usual, considering I read it years and years ago) writing which flows (just read the first page on Amazon,) gotta-find-outness (for ...</td><td> Biography & Autobiography , Women</td><td>Miramax</td><td>Tuesday, January 1, 2002</td><td>Price Starting at $4.89</td></tr><tr><td>Healing Benefits of Garlic</td><td>By Heinerman, John</td><td>For thousands of years -- from the time of the Mesopotamian empire to the present day -- garlic has been recognized as one of nature's most powerful & effective medicinal aids. Now this helpful guide to garlic draws on both the ancient texts & the latest scientific data to provide a unique & comprehensive overview of the remarkable herb's therapeutic value.</td><td> Cooking , Specific Ingredients , Herbs, Spices, Condiments</td><td>Gramercy</td><td>Saturday, July 1, 1995</td><td>Price Starting at $4.99</td></tr><tr><td>Me and Ted Against the World : The Unauthorized Story of the Founding of CNN</td><td>By Schonfeld, Reese</td><td>Me and Ted Against the World : The Unauthorized Story of the Founding of CNN [Reese Schonfeld] on Amazon.com. *FREE* shipping on qualifying offers. Me and Ted Against the World : The Unauthorized Story of the Founding of CNN ... Me and Ted is the best book I have read about the guts of broadcast/cable news in my 30+ years in media. Turner and Schonfeld were a great team. Turner pioneered in cable, raised the money and placed it all on the line when he hired reese to execute his plan. The ...</td><td> Business & Economics , Management</td><td>Harperbusiness</td><td>Thursday, February 1, 2001</td><td>Price Starting at $4.99</td></tr><tr><td>Magnet Therapy: The Pain Cure Alternative</td><td>By Lawrence, Ronald Melvin, Plowden, Judith, and Rosch, Paul</td><td>Discusses how to use magnets for relief of pain caused by various ailments, including arthritis, repetitive stress, and muscle soreness 241 pages, Paperback First published March 18, 1998</td><td> Medical , Holistic Medicine</td><td>Prima Pub</td><td>Sunday, March 1, 1998</td><td>Price Starting at $5.29</td></tr></tbody></table></div>"
      ]
     },
     "metadata": {
      "application/vnd.databricks.v1+output": {
       "addedWidgets": {},
       "aggData": [],
       "aggError": "",
       "aggOverflow": false,
       "aggSchema": [],
       "aggSeriesLimitReached": false,
       "aggType": "",
       "arguments": {},
       "columnCustomDisplayInfos": {},
       "data": [
        [
         "Goat Brothers",
         "By Colton, Larry",
         "Genres Nonfiction Memoir College Biography. Hardcover. First published January 1, 1993. Book details & editions. ... thus his 1960s biography held my interest. Although when he was in a frat house with his Goat Brothers, I was in the barracks with my card playing, book reading and bowling buddies. ... his story and the Brothers K book overlap. 1960s baseball. (Duncan played for the high school closest to the one I attended.) The Brothers K",
         " History , General",
         "Doubleday",
         "Friday, January 1, 1993",
         "Price Starting at $8.79"
        ],
        [
         "The Missing Person",
         "By Grumbach, Doris",
         "Book Details. Title: Missing Person Author: Patrick Modiano Translator: Daniel Weissbort Pages: 168 Published: September 5, 1978 Genres: Fiction, Mystery, Literary Fiction. Synopsis of Missing Person Introduction to Guy Roland. Set against the haunting backdrop of Paris, “Missing Person” opens with Guy Roland. For ten years, he has lived in ...",
         " Fiction , General",
         "Putnam Pub Group",
         "Sunday, March 1, 1981",
         "Price Starting at $4.99"
        ],
        [
         "Don't Eat Your Heart Out Cookbook",
         "By Piscatella, Joseph C.",
         "With over 939,000 copies in print, used and recommended by more than 5,500 hospitals, and now completely revised and updated, Don't Eat Your Heart Out Cookbook is the bible for anyone seeking a heart-healthy diet. Incorporating the latest scientific and nutritional studies, lay expert Joe Piscatella outlines an effective plan for life-long heart health and explains the science behind it in plain-speaking language we all can understand. Packed with 400 healthy, low-fat recipes-soups, salads ...",
         " Cooking , Reference",
         "Workman Pub Co",
         "Thursday, September 1, 1983",
         "Price Starting at $4.99"
        ],
        [
         "When Your Corporate Umbrella Begins to Leak: A Handbook for White Collar Re-Employment",
         "By Davis, Paul D.",
         "Amazon.in - Buy When Your Corporate Umbrella Begins to Leak: A Handbook for White Collar Re-Employment book online at best prices in India on Amazon.in. Read When Your Corporate Umbrella Begins to Leak: A Handbook for White Collar Re-Employment book reviews & author details and more at Amazon.in. Free delivery on qualified orders.",
         null,
         "Natl Pr Books",
         "Monday, April 1, 1991",
         "Price Starting at $4.99"
        ],
        [
         "Amy Spangler's Breastfeeding : A Parent's Guide",
         "By Spangler, Amy",
         "An illustration of an open book. Texts. An illustration of two cells of a film strip. Video. An illustration of an audio speaker. Audio An illustration of a 3.5\" floppy disk. ... Breastfeeding : a parent's guide by Spangler, Amy. Publication date 2006 Topics Breastfeeding, Breast Feeding Publisher Atlanta : Amy Spangler Collection internetarchivebooks; americana; inlibrary; printdisabled Contributor Internet Archive Language English Item Size 208.8M . Cover title",
         null,
         "Amy Spangler",
         "Saturday, February 1, 1997",
         "Price Starting at $5.32"
        ],
        [
         "The Foundation of Leadership: Enduring Principles to Govern Our Lives",
         "By Short, Bo",
         "As a result, those who read this book will find themselves aspiring to new levels of leadership and success. The author explores five specific qualities -- vision, courage, perseverance, responsibility and character -- that serve as the foundation of true leadership. These are the hallmark qualities of our Founding Fathers.",
         null,
         "Excalibur Press",
         "Wednesday, January 1, 1997",
         "Price Starting at $6.06"
        ],
        [
         "Chicken Soup for the Soul: 101 Stories to Open the Heart and Rekindle the Spirit",
         "By Canfield, Jack (COM) and Hansen, Mark Victor (COM)",
         "An illustration of an open book. Texts. An illustration of two cells of a film strip. Video. An illustration of an audio speaker. Audio An illustration of a 3.5\" floppy disk. ... Chicken soup for the soul : 101 stories to open the heart & rekindle the spirit ... 101 stories to open the heart & rekindle the spirit by Canfield, Jack, 1944-; Hansen, Mark Victor. Publication date 1993 Topics Spiritual life Publisher",
         " Self-help , Personal Growth , Self-Esteem",
         "Health Communications Inc",
         "Saturday, May 1, 1993",
         "Price Starting at $4.99"
        ],
        [
         "Journey Through Heartsongs",
         "By Stepanek, Mattie J. T.",
         "Collects poems written by the eleven-year-old muscular dystrophy patient, sharing his feelings and thoughts about his life, the deaths of his siblings, nature, faith, and hope.",
         " Poetry , General",
         "VSP Books",
         "Saturday, September 1, 2001",
         "Price Starting at $19.96"
        ],
        [
         "In Search of Melancholy Baby",
         "By Aksyonov, Vassily, Heim, Michael Henry, and Bouis, Antonina W.",
         "The Russian author offers an affectionate chronicle of life in the United States, with discussions of such topics as the European charm of Washington, D.C., and the American immigration bureaucracy",
         " Biography & Autobiography , General",
         "Random House",
         "Monday, June 1, 1987",
         "Price Starting at $4.99"
        ],
        [
         "Christmas Cookies",
         "By Eakin, Katherine M. and Deaman, Joane (EDT)",
         "The Gift of the Christmas Cookie Story Summary. The Gift of the Christmas Cookie by Dandi Daley Mackall is a realistic Christian fiction story set during the Depression-Era 1930s. Jack and his mother face a pained separation from a beloved husband and father when he hops a train west to find work to support his family. ... Bite-Size Holiday Lessons by Amy Krouse Rosenthal and illustrated by Jane Dyer is a charmingly-illustrated book that uses baking Christmas cookies as a metaphor for a well ...",
         " Cooking , General",
         "Oxmoor House",
         "Sunday, June 1, 1986",
         "Price Starting at $12.98"
        ],
        [
         "The Dieter's Guide to Weight Loss During Sex",
         "By Smith, Richard",
         "\"A humor classic, this tongue-in-cheek diet plan bases calorie counts on sexual activity and charts the exact number of calories burned.\"\"You and your friends can read this book aloud while sitting on the beach and shed a combined total of ten thousand calories in thirty-three minutes. Yes",
         " it's that funny.\"\"-Glamour. Selection of the Quality Paperback Book and Playboy book clubs and a New York Times Bestseller. 935",
         "000 copies in print.\"",
         " Health & Fitness , Diet & Nutrition , Diets",
         "Workman Publishing Company"
        ],
        [
         "Germs : Biological Weapons and America's Secret War",
         "By Miller, Judith, Engelberg, Stephen, and Broad, William J.",
         "Deadly germs sprayed in shopping malls, bomb-lets spewing anthrax spores over battlefields, tiny vials of plague scattered in Times Square -- these are the poor man's hydrogen bombs, hideous weapons of mass destruction that can be made in a simple laboratory. In this groundbreaking work of investigative journalism, Judith Miller, Stephen Engelberg, and William Broad of The New York Times uncover the truth about biological weapons and show why bio-warfare and bio-terrorism are fast becoming our worst national nightmare.  Among the startling revelations in Germs:   How the CIA secretly built and tested a model of a Soviet-designed germ bomb, alarming some officials who felt the work pushed to the limits of what is permitted by the global treaty banning germ arms. How the Pentagon embarked on a secret effort to make a superbug. Details about the Soviet Union's massive hidden program to produce biological weapons, including new charges that germs were tested on humans. How Moscow's scientists made an untraceable germ that instructs the body to destroy itself. The Pentagon's chaotic efforts to improvise defenses against Iraq's biological weapons during the 1991 Persian Gulf War. How a religious cult in Oregon in the 1980s sickened hundreds of Americans in a bio-terrorism attack that the government played down to avoid panic and copycat strikes. Plans by the U.S. military in the 1960s to attack Cuba with germ weapons.   Germs also shows how a small group of scientists and senior officials persuaded President Bill Clinton to launch a controversial multibillion-dollar program to detect a germ attack on U.S. soil and to aid its victims -- a program that, so far, is struggling to provide real protection.  Based on hundreds of interviews with scientists and senior officials, including President Clinton, as well as on recently declassified documents and on-site reporting from the former Soviet Union's sinister bio-weapons labs, Germs shows us bio-warriors past and present at work at their trade. There is the American scientist who devoted his professional life to perfecting biological weapons, and the Nobel laureate who helped pioneer the new biology of genetically modified germs and is now trying to stop its misuse. We meet former Soviet scientists who made enough plague, smallpox, and anthrax to kill everyone on Earth and whose expertise is now in great demand by terrorists, rogue states, and legitimate research labs alike.  A frightening and unforgettable narrative of cutting-edge science and spycraft, Germs shows us why advances in biology and the spread of germ weapons expertise to such countries as Iran, Iraq, and North Korea could make germs the weapon of the twenty-first century.",
         " Technology & Engineering , Military Science",
         "Simon & Schuster",
         "Monday, October 1, 2001",
         "Price Starting at $4.99"
        ],
        [
         "The Genesis of Ethics",
         "By Visotzky, Burton L.",
         "Genres Religion Judaism. 211 pages, Hardcover. First published September 9, 1996. Book details & editions ... This is a book that analyzes the \"evolution\" of ethics as per the biblical book of Genesis. It explores the contexts of the Biblical stories and discusses the lessons taught by the Jewish and Christian traditions on morals and values and looks at how the actions of the characters would be considered wrong by today's ethical standards.",
         " Religion , Ethics",
         "Crown",
         "Sunday, September 1, 1996",
         "Price Starting at $4.99"
        ],
        [
         "The Good Book: Reading the Bible with Mind and Heart",
         "By Gomes, Peter J.",
         "\"\"\"The Bible and the social and moral consequences that derive from its interpretation are all too important to be left in the hands of the pious or the experts",
         " and too significant to be ignored and trivialized by the uninformed and indifferent.\"",
         " Religion , Biblical Biography , General",
         "Harper Perennial",
         "Friday, May 1, 1998"
        ],
        [
         "All over but the Shoutin'",
         "By Bragg, Rick",
         "A New York Times Notable Book of the YearThis haunting, harrowing, gloriously moving recollection of a life on the American margin is the story of Rick Bragg, who grew up dirt-poor in northeastern Alabama, seemingly destined for either the cotton mills or the penitentiary, and instead became a Pulitzer Prize-winning reporter for The New York Times. It is the story of Bragg's father, a hard-drinking man with a murderous temper and the habit of running out on the people who needed him most.But at the center of this soaring memoir is Bragg's mother, who went eighteen years without a new dress so that her sons could have school clothes and picked other people's cotton so that her children wouldn't have to live on welfare alone. Evoking these lives--and the country that shaped and nourished them--with artistry, honesty, and compassion, Rick Bragg brings home the love and suffering that lie at the heart of every family. The result is unforgettable.",
         " Biography & Autobiography , Personal Memoirs",
         "Vintage",
         "Tuesday, September 1, 1998",
         "Price Starting at $4.89"
        ],
        [
         "Oilers and Sweepers and Other Stories",
         "By Dennison, George",
         "An illustration of an open book. Books. An illustration of two cells of a film strip. Video. An illustration of an audio speaker. Audio. An illustration of a 3.5\" floppy disk. Software. An illustration of two photographs. Images. An illustration of a heart ... Oilers and sweepers and other stories by Dennison, George, 1925-Publication date 1979 Publisher New York : Random House Collection internetarchivebooks; inlibrary; printdisabled Contributor Internet Archive Language English Item Size ...",
         null,
         "Random House",
         "Monday, January 1, 1979",
         "Price Starting at $5.00"
        ],
        [
         "Prince William",
         "By Garner, Valerie",
         "In Prince William, experienced biography author Joann F. Price details the prince's life thus far, including his experiences at the prestigious Eton College and the University of St. Andrews in Scotland, his global travels with his glamorous and beloved mother and brother, his military service, and his engagement and upcoming wedding to longtime girlfriend Kate Middleton. The book also reveals important aspects of the Royal Family and explains how being born into it—an integral and highly ...",
         null,
         "Benford Books",
         "Thursday, January 1, 1998",
         "Price Starting at $4.99"
        ],
        [
         "The Emperor's New Mind",
         "By Penrose, Roger",
         "The Emperor's New Mind: Concerning Computers, Minds and The Laws of Physics is a 1989 book by the mathematical physicist Roger Penrose.. Penrose argues that human consciousness is non-algorithmic, and thus is not capable of being modeled by a conventional Turing machine, which includes a digital computer.Penrose hypothesizes that quantum mechanics plays an essential role in the understanding of human consciousness.The collapse of the quantum wavefunction is seen as playing an important role ...",
         " Philosophy , General",
         "Penguin Books",
         "Tuesday, January 1, 1991",
         "Price Starting at $4.99"
        ],
        [
         "Touching Fire: Erotic Writings by Women",
         "By Thornton, Louise, Sturtevant, Jan, and Sumrall, Amber Coverdale (EDT)",
         "References to this book. Daughters of Africa: An International Anthology of Words and Writings by ... Margaret Busby Snippet view - 1992. Loose Women, Lecherous Men: A Feminist Philosophy of Sex Linda LeMoncheck Limited preview - 1997. Bibliographic information. Title: Touching Fire: Erotic Writings by Women: Editors: Louise Thornton, Jan Strurtevant, Amber Coverdale Sumrall: Edition: revised:",
         null,
         "Carroll & Graf Pub",
         "Monday, October 1, 1990",
         "Price Starting at $5.29"
        ],
        [
         "Hill Rat: Blowing the Lid Off Congress",
         "By Jackley, John L.",
         "\"As a top aide to powerful Texas Congressman Ronald Coleman, John Jackley watched the nation's highest elected officials lie, manipulate media images, and spend millions of taxpayer dollars to stay in power. The mind-boggling scope of the abuse of perks and privilege by both legislators and their staffers finally shocked him into reality.What began as a secret journal for his children to clear his conscience has become Hill Rat, a journey behind Congress' closed doors and into the corrupt back alleys of power. With both humor and outrage, Jackley reveals how the promise of Congress has been hijacked and corrupted by the current crop of careerist incumbents. \"\"Today",
         "\"\" he writes",
         " \"\"a successful congressman has the fundraising ability of a hooker trying to make cab fare home and the morals of a big-time football coach!\"\"His account is laced with the names of Capitol Hill's most prominent legislators--Majority Leader Richard Gephardt",
         " Speaker of the House Thomas Foley",
         " Ron Dellums"
        ],
        [
         "The Great ABC Treasure Hunt: A Hidden Picture Alphabet Book (Time-Life Early Learning Program)",
         "By Time-Life for Children (Firm) (COR), Singer, Muff, and Hoggan, Pat (ILT)",
         "Amazon.in - Buy The Great ABC Treasure Hunt : a Hidden Picture Alphabet Book: Time-Life Early Learning Program book online at best prices in India on Amazon.in. Read The Great ABC Treasure Hunt : a Hidden Picture Alphabet Book: Time-Life Early Learning Program book reviews & author details and more at Amazon.in. Free delivery on qualified orders.",
         " Juvenile Nonfiction , General",
         "Time Life Education",
         "Friday, February 1, 1991",
         "Price Starting at $5.29"
        ],
        [
         "Personality of the Cat",
         "By Aymar, Brandt (EDT)",
         "A delightful collection of reflections on the feline contains selections from famous artists, writers, poets, and essayists, such as Pablo Picasso, Rudyard Kipling, T. S. Eliot, and others.",
         " Pets , Cats , General",
         "Bonanza Books",
         "Sunday, January 1, 1978",
         "Price Starting at $5.41"
        ],
        [
         "Murdering Mr. Monti: A Merry Little Tale of Sex and Violence",
         "By Viorst, Judith",
         "“Highly entertaining…Sit back in the bubbles and enjoy.” —The Philadelphia Inquirer Brenda Kovner, a newspaper advice columnist and amateur psychologist in 1990s Washington DC, doesn’t consider herself intrusive, just extremely interested in helping. If she knows the answer, she can’t shut up—even if no one’s listening. Since Brenda knows what’s best—for everyone—she secretly decides she must murder her son Wally’s prospective father-in-law, before he can get to Wally ...",
         " Fiction , General",
         "Simon & Schuster",
         "Saturday, January 1, 1994",
         "Price Starting at $5.29"
        ],
        [
         "In Re Alger Hiss:  Petition for a Writ of Error Coram Nobis",
         "By Edith Tiger",
         "Access-restricted-item true Addeddate 2022-08-31 09:01:29 Associated-names Tiger, Edith; Rabinowitz, Victor Autocrop_version",
         null,
         "Hill & Wang",
         "Tuesday, May 1, 1979",
         "Price Starting at $10.99"
        ],
        [
         "Black Holes and Baby Universes and Other Essays",
         "By Hawking, Stephen W.",
         "This book is a collection of essays and lectures written by Hawking, mainly about the makeup of black holes, and why they might be nodes from which other universes grow. Hawking discusses black hole thermodynamics, special relativity, general relativity, and quantum mechanics.Hawking also describes his life when he was young, and his later experience of motor neurone disease.The book also includes an interview with Professor Hawking.",
         " Biography & Autobiography , General",
         "Bantam",
         "Friday, October 1, 1993",
         "Price Starting at $5.29"
        ],
        [
         "Relativity: The Special and the General Theory",
         "By Albert Einstein",
         "The original 1920 English publication of the paper. Relativity: The Special and the General Theory (German: Über die spezielle und die allgemeine Relativitätstheorie) is a popular science book by Albert Einstein.It began as a short paper and was eventually expanded into a book written with the aim of explaining the special and general theories of relativity. It was published in German in 1916 and translated into English in 1920.",
         null,
         "Three Rivers Press",
         "Tuesday, August 1, 1961",
         "Price Starting at $8.79"
        ],
        [
         "Betrayal : How the Clinton Administration Undermined American Security",
         "By Gertz, Bill",
         "\"Gertz, writer for the Moonie-influenced  Washington Times  newspaper and a reporter  with the highest right-wing credentials (including praise from Rush Limbaugh and G. Gordon Liddy on the jacket) uses declassified documents and unnamed Pentagon sources to recount how President Clinton has weakened the military and made innumerable secret deals with \"\"enemy\"\" countries. Annotation c. Book News",
         " Inc.",
         " Portland",
         " OR (booknews.com)\"",
         " Political Science , General"
        ],
        [
         "Shadow Song",
         "By Kay, Terry",
         "\"It was a wonderful summer, a great memory, the kind of love everybody ought to have. It changed my life - or almost did - and I think about it more than I should, but that was a long time ago.Amid the breathtaking beauty of the Catskill Mountains, Avrum Feldman listened to the haunting voice of Amelita Galli-Curci ringing over the Shandaken Valley - a voice no one else could hear. When he died at age one hundred six, his obsession for the famous opera diva had lasted three-quarters of a century. Most people considered Avrum crazy, someone preoccupied with romantic nonsense. But Madison Lee \"\"Bobo\"\" Murphy was not among them",
         " for he",
         " too",
         " had a love that changed his life",
         " or almost did: Amy Lourie.In the summer of 1955"
        ],
        [
         "Undercurrents: A Therapist's Reckoning With Her Own Depression",
         "By Manning, Martha",
         "An illustration of an open book. Books. An illustration of two cells of a film strip. Video. An illustration of an audio speaker. Audio An illustration of a 3.5\" floppy disk. ... Undercurrents : a therapist's reckoning with her own depression Bookreader Item Preview ... Undercurrents : a therapist's reckoning with her own depression by Manning, Martha. Publication date 1994",
         " Psychology , General",
         "HarperCollins",
         "Sunday, January 1, 1995",
         "Price Starting at $5.29"
        ],
        [
         "The Road Less Traveled and Beyond: Spiritual Growth in an Age of Anxiety",
         "By Peck, M. Scott",
         "The culmination of a lifetime of Dr. M. Scott Peck’s counseling, lecturing, and writing, and the conclusion of the classic bestselling Road trilogy, The Road Less Traveled and Beyond leads us to a deeper awareness of how to live rich, fulfilling lives in a world fraught with stress and anxiety. With the rare combination of profound psychological insight and deep spirituality that has already spoken to millions of readers, Dr. Peck talks about decision making and the choices we make every ...",
         " Psychology , Psychopathology , Anxieties & Phobias",
         "Touchstone",
         "Thursday, January 1, 1998",
         "Price Starting at $4.99"
        ],
        [
         "The Kiss: A Memoir",
         "By Harrison, Kathryn",
         "The memoir received mixed reviews. The New York Times considered it \"a powerful piece of writing, a testament to evil and hope.\"; [2]. The events in The Kiss are reflected in the plots and themes of her first three novels, published before The Kiss. [3] In The New York Times Book Review, Susan Cheever wrote, \"The story of an intellectually powerful man and his consuming desire to ravish an innocent, almost preconscious, young woman (sometimes his daughter) has often been told—Zeus, Lewis ...",
         " Family & Relationships , Love & Romance",
         "Random House",
         "Saturday, March 1, 1997",
         "Price Starting at $5.29"
        ],
        [
         "Codebreakers' Victory: How the Allied Cryptogaphers Won World War II",
         "By Haufler, Hervie",
         "\"For the first time ever, veteran World War II cryptographer Hervie Haufler details how American and British codebreakers were the decisive factor in the Allied victory. From the Purple Machine to the Navajo Talkers to the breaking of Japan's JN-25 Naval Code to the shadowy world of decoding units like Hut-8 in Bletchley Park, he shows how crucial information-often obtained by surreptitious and violent means-was the decisive edge in the Battle of Britain, at Midway and against the U-Boats in the North Atlantic, and how Allied intelligence saved the Soviet Union from almost certain defeat.  In an accessible account based on years of research, interviews and exclusive access to previously top-secret archives, Haufler demonstrates how cryptography enabled Nimitz and MacArthur to persevere in the Pacific and helped Eisenhower and Patton mount the assaults on Normandy. In compelling detail, Haufler shows us how it was done-as only one who was on the frontlines of the \"\"secret war\"\" could tell it.\"",
         " History , Military , World War II",
         "NAL Trade",
         "Saturday, November 1, 2003",
         "Price Starting at $5.29"
        ],
        [
         "A Manual for Writers of Term Papers, Theses, and Dissertations, Fifth Edition",
         "By Turabian, Kate L.",
         "Title: A manual for writers of research papers, theses, and dissertations : Chicago Style for students and researchers / Kate L. Turabian ; revised by Wayne C. Booth, Gregory G. Colomb, Joseph M. Williams, Joseph Bizup, William T. FitzGerald, and the University of Chicago Press editorial staff.",
         null,
         "University of Chicago Press",
         "Thursday, January 1, 1987",
         "Price Starting at $4.99"
        ],
        [
         "The Price of Loyalty: George W. Bush, the White House, and the Education of Paul O'Neill",
         "By Suskind, Ron",
         "An illustration of an open book. Texts. An illustration of two cells of a film strip. Video. An illustration of an audio speaker. Audio An illustration of a 3.5\" floppy disk. ... The price of loyalty : George W. Bush, the White House, and the education of Paul O'Neill ... George W. Bush, the White House, and the education of Paul O'Neill by Suskind, Ron. Publication date 2004",
         " Political Science , Government , Executive Branch",
         "Simon & Schuster",
         "Thursday, January 1, 2004",
         "Price Starting at $8.79"
        ],
        [
         "Best New American Voices 2003",
         "By Kulka, John (EDT), Danford, Natalie (EDT), and Oates, Joyce Carol (EDT)",
         "Since its launch in 2000, the Best New American Voices series has been acclaimed for the range and originality of its selections, which represent the writers who promise to become the literary stars of tomorrow. The 2003 collection continues the tradition, featuring innovative, powerful stories selected by one of our finest writers of contemporary fiction, Joyce Carol Oates. With pieces culled from more than one hundred prestigious writing programs around the country and Canada, including the Iowa Writers' Workshop and the Sewanee Conference, this volume showcases a remarkable array of talent--and offers the excitement of discovering a new generation of writers.A Harvest Original",
         " Fiction , Anthologies (multiple authors)",
         "Harvest Books",
         "Tuesday, October 1, 2002",
         "Price Starting at $5.29"
        ],
        [
         "Escape from the CIA: How the CIA Won and Lost the Most Important KGB Spy Ever to Defect to the U.S.",
         "By Kessler, Ronald",
         "Escape from the CIA : how the CIA won and lost the most important KGB spy ever to defect to the U.S. by Kessler, Ronald, 1943-",
         " Political Science , General",
         "Pocket Books",
         "Monday, April 1, 1991",
         "Price Starting at $5.29"
        ],
        [
         "Meditations: On the Monk Who Dwells in Daily Life",
         "By Moore, Thomas",
         "Sometimes in their chanting monks will land upon a note and sing it in florid fashion, one syllable of text for fifty notes of chant. Melisma, they call it.Living a melismatic life in imitation of plainchant, we may stop on an experience, a place, a person, or a memory and rhapsodize in imagination. Some like to meditate or contemplate melismatically, while others prefer to draw, build, paint, or dance whatever their eye has fallen upon.Living one point after another, is one form of experience, and it can be emphatically productive. But stopping for melisma gives the soul its reason for being.",
         " Religion , General",
         "HarperCollins",
         "Tuesday, November 1, 1994",
         "Price Starting at $4.99"
        ],
        [
         "Links Lore",
         "By Stevens, Peter F.",
         "The Truth about Castor: Castor, believed dead, returns with complex feelings, revealing the emotional core of the story. Athena’s Betrayal: Athena aligns with Lore as a means of accessing revenge against her sister Artemis. Wrath’s Ambitions: Wrath, the new god, seeks to eliminate all gods, complicating Lore’s quest for vengeance. Family Secrets: Lore discovers hidden truths about her lineage that redefine her destiny. Outcome of the Agon: The conclusion leaves the fate of the gods and ...",
         " Sports & Recreation , History",
         "POTOMAC BOOKS",
         "Thursday, June 1, 2000",
         "Price Starting at $5.29"
        ],
        [
         "Jackie by Josie: A Novel",
         "By Preston, Caroline",
         "Follows a thirtyish graduate who unexpectedly finds herself helping a celebrity biographer research the life of Jacqueline Kennedy Onassis, and ends up discovering surprising parallels between her own life and that of the queen of Camelot",
         " Fiction , Literary",
         "Scribner",
         "Sunday, March 1, 1998",
         "Price Starting at $4.99"
        ],
        [
         "Joshua and the City",
         "By Girzone, Joseph F.",
         "A contemporary city faces turmoil and devastation until it is visited by the serene figure of Joshua, who presents an alternative, love-based approach to life while addressing such issues as poverty, racism, and AIDS. 150,000 first printing. $150,000 ad/promo.",
         " Religion , Inspirational",
         "Doubleday",
         "Wednesday, March 1, 1995",
         "Price Starting at $5.29"
        ],
        [
         "The Book of Courtly Love: The Passionate Code of the Troubadours",
         "By Hopkins, Andrea",
         "A treasury of French medieval lore combines the tales of Lancelot and Guinevere, Tristan and Isolde, Troilus and Criseyde, and several songs and poems with sixty accompanying illustrations from classic manuscripts and romantic art.",
         null,
         "HarperCollins",
         "Tuesday, November 1, 1994",
         "Price Starting at $5.29"
        ],
        [
         "How Good Do We Have to Be? A New Understanding of Guilt and Forgiveness",
         "By Kushner, Harold S.",
         "From the author of When Bad Things Happen to Good People comes an inspiring new bestseller that puts human feelings of guilt and inadequacy in perspective - and teaches us how we can learn to accept ourselves and others even when we and they are less than perfect. How Good Do We Have to Be? is for everyone who experiences that sense of guilt and disappointment. Harold Kushner, writing with his customary generosity and wisdom, shows us how human life is too complex for anyone to live it without making mistakes, and why we need not fear the loss of God's love when we are less than perfect. Harold Kushner begins by offering a radically new interpretation of the story of Adam and Eve, which he sees as a tale of Paradise Outgrown rather than Paradise Lost: eating from the Tree of Knowledge was not an act of disobedience, but a brave step forward toward becoming human, complete with the richness of work, sexuality and child-rearing, and a sense of our mortality. Drawing on modern literature, psychology, theology,,and his own thirty years of experience as a congregational rabbi, Harold Kushner reveals how acceptance and forgiveness can change our relationships with the most important people in our lives and help us meet the bold and rewarding challenge of being human.",
         " Religion , Psychology of Religion",
         "Back Bay Books",
         "Monday, September 1, 1997",
         "Price Starting at $4.99"
        ],
        [
         "Eat More, Weigh Less: Dr. Dean Ornish's Life Choice Program for Losing Weight Safely While Eating Abundantly",
         "By Ornish, Dean and Brown, Shirley Elizabeth (EDT)",
         "Amazon.in - Buy Eat More, Weigh Less: Dr. Dean Ornish's Life Choice Program for Losing Weight Safely While Eating Abundantly book online at best prices in India on Amazon.in. Read Eat More, Weigh Less: Dr. Dean Ornish's Life Choice Program for Losing Weight Safely While Eating Abundantly book reviews & author details and more at Amazon.in. Free delivery on qualified orders.",
         " Cooking , Health & Healing , Low Fat",
         "William Morrow Paperbacks",
         "Friday, December 1, 2000",
         "Price Starting at $5.29"
        ],
        [
         "Majorca: Culture and Life",
         "By Konemann Inc. (EDT)",
         "Which non-fiction books about Mallorca would you recommend to someone moving to the island? That’s a question I’ve been asked a few times, so I thought I’d answer it in this post. We arrived to live in rural Mallorca in 2004 with one thumping good book about the island (in English): Majorca – Culture and Life (Könemann). It had been a ...",
         " Photography , Subjects & Themes , Regional",
         "Konemann",
         "Thursday, June 1, 2000",
         "Price Starting at $8.83"
        ],
        [
         "Written by Herself: Autobiographies of American Women: An Anthology",
         "By Conway, Jill Ker (EDT)",
         "The bestselling author of The Road from Coorain presents an extraordinarily powerful anthology of the autobiographical writings of 25 women, literary predecessors and contemporaries that include Jane Addams, Zora Neale Hurst, Harriet Jacobs, Ellen Glasgow, Maya Angelou, Sara Josephine Baker, Margaret Mead, Gloria Steinem, and Maxine Hong Kingston.",
         " Biography & Autobiography , Women",
         "Vintage",
         "Sunday, November 1, 1992",
         "Price Starting at $4.99"
        ],
        [
         "The Universe of Galaxies",
         "By Hodge, Paul",
         "In The Universe, Murdin draws on his expertise in the field to explain difficult concepts such as black holes, nebulae, and dark matter and relates them to the most important characters and events in the history of our Universe: powerful explosions, the largest planets, galaxies, and celestial bodies. Structured in a clear, accessible fashion as a “biography” of our Universe, this history begins at the Big Bang and proceeds stage by stage through the story of our cosmos.",
         null,
         "W H Freeman & Co",
         "Monday, October 1, 1984",
         "Price Starting at $5.29"
        ],
        [
         "Ice Bound: A Doctor's Incredible Battle For Survival at the South Pole",
         "By Nielsen, Jerri and Vollers, Maryanne",
         "Her book, Ice Bound a Doctor's Incredible Battle For Survival at the South Pole, co-written with Maryanne Vollers, fit every criteria I have for a great read: engrossing plot (which I remember in more detail than usual, considering I read it years and years ago) writing which flows (just read the first page on Amazon,) gotta-find-outness (for ...",
         " Biography & Autobiography , Women",
         "Miramax",
         "Tuesday, January 1, 2002",
         "Price Starting at $4.89"
        ],
        [
         "Healing Benefits of Garlic",
         "By Heinerman, John",
         "For thousands of years -- from the time of the Mesopotamian empire to the present day -- garlic has been recognized as one of nature's most powerful & effective medicinal aids. Now this helpful guide to garlic draws on both the ancient texts & the latest scientific data to provide a unique & comprehensive overview of the remarkable herb's therapeutic value.",
         " Cooking , Specific Ingredients , Herbs, Spices, Condiments",
         "Gramercy",
         "Saturday, July 1, 1995",
         "Price Starting at $4.99"
        ],
        [
         "Me and Ted Against the World : The Unauthorized Story of the Founding of CNN",
         "By Schonfeld, Reese",
         "Me and Ted Against the World : The Unauthorized Story of the Founding of CNN [Reese Schonfeld] on Amazon.com. *FREE* shipping on qualifying offers. Me and Ted Against the World : The Unauthorized Story of the Founding of CNN ... Me and Ted is the best book I have read about the guts of broadcast/cable news in my 30+ years in media. Turner and Schonfeld were a great team. Turner pioneered in cable, raised the money and placed it all on the line when he hired reese to execute his plan. The ...",
         " Business & Economics , Management",
         "Harperbusiness",
         "Thursday, February 1, 2001",
         "Price Starting at $4.99"
        ],
        [
         "Magnet Therapy: The Pain Cure Alternative",
         "By Lawrence, Ronald Melvin, Plowden, Judith, and Rosch, Paul",
         "Discusses how to use magnets for relief of pain caused by various ailments, including arthritis, repetitive stress, and muscle soreness 241 pages, Paperback First published March 18, 1998",
         " Medical , Holistic Medicine",
         "Prima Pub",
         "Sunday, March 1, 1998",
         "Price Starting at $5.29"
        ]
       ],
       "datasetInfos": [],
       "dbfsResultPath": null,
       "isJsonSchema": true,
       "metadata": {},
       "overflow": false,
       "plotOptions": {
        "customPlotOptions": {},
        "displayType": "table",
        "pivotAggregation": null,
        "pivotColumns": null,
        "xColumns": null,
        "yColumns": null
       },
       "removedWidgets": [],
       "schema": [
        {
         "metadata": "{}",
         "name": "Title",
         "type": "\"string\""
        },
        {
         "metadata": "{}",
         "name": "Authors",
         "type": "\"string\""
        },
        {
         "metadata": "{}",
         "name": "Description",
         "type": "\"string\""
        },
        {
         "metadata": "{}",
         "name": "Category",
         "type": "\"string\""
        },
        {
         "metadata": "{}",
         "name": "Publisher",
         "type": "\"string\""
        },
        {
         "metadata": "{}",
         "name": "Publish Date",
         "type": "\"string\""
        },
        {
         "metadata": "{}",
         "name": "Price",
         "type": "\"string\""
        }
       ],
       "type": "table"
      }
     },
     "output_type": "display_data"
    }
   ],
   "source": [
    "df_silver.display()"
   ]
  }
 ],
 "metadata": {
  "application/vnd.databricks.v1+notebook": {
   "computePreferences": null,
   "dashboards": [],
   "environmentMetadata": {
    "base_environment": "",
    "environment_version": "2"
   },
   "inputWidgetPreferences": null,
   "language": "python",
   "notebookMetadata": {
    "pythonIndentUnit": 4
   },
   "notebookName": "bronze-to-silver",
   "widgets": {}
  },
  "language_info": {
   "name": "python"
  }
 },
 "nbformat": 4,
 "nbformat_minor": 0
}