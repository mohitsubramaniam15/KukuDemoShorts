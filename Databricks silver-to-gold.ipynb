{
 "cells": [
  {
   "cell_type": "code",
   "execution_count": 0,
   "metadata": {
    "application/vnd.databricks.v1+cell": {
     "cellMetadata": {
      "byteLimit": 2048000,
      "rowLimit": 10000
     },
     "inputWidgets": {},
     "nuid": "5e6a840a-b5cf-4fb3-8c8a-e455196646fa",
     "showTitle": false,
     "tableResultSettingsMap": {},
     "title": ""
    }
   },
   "outputs": [],
   "source": [
    "# =========================================\n",
    "# silver_to_gold.py (Updated)\n",
    "# Description: Add summary column using DeepSeek + TTS audio via Azure\n",
    "# =========================================\n",
    "\n",
    "import requests\n",
    "import os\n",
    "from pyspark.sql.functions import udf, col\n",
    "from pyspark.sql.types import StringType\n",
    "import json\n",
    "import pandas \n",
    "\n",
    "# Set Spark config for Azure Data Lake Gen2\n",
    "spark.conf.set(\"fs.azure.account.key.kkstoragemo.dfs.core.windows.net\", \"\")\n",
    "\n",
    "# Paths\n",
    "silver_path = \"abfss://silver@kkstoragemo.dfs.core.windows.net/BooksDatasetCleaned.parquet\"\n",
    "gold_path = \"abfss://gold@kkstoragemo.dfs.core.windows.net/BooksDatasetWithSummary.parquet\"\n",
    "gold_audio_base_uri = \"abfss://gold@kkstoragemo.dfs.core.windows.net/audio_summaries/\""
   ]
  },
  {
   "cell_type": "code",
   "execution_count": 0,
   "metadata": {
    "application/vnd.databricks.v1+cell": {
     "cellMetadata": {
      "byteLimit": 2048000,
      "rowLimit": 10000
     },
     "inputWidgets": {},
     "nuid": "18f70729-2f65-47af-8645-b4b1291a7a3c",
     "showTitle": false,
     "tableResultSettingsMap": {},
     "title": ""
    }
   },
   "outputs": [],
   "source": [
    "# API Keys\n"
   ]
  },
  {
   "cell_type": "code",
   "execution_count": 0,
   "metadata": {
    "application/vnd.databricks.v1+cell": {
     "cellMetadata": {
      "byteLimit": 2048000,
      "rowLimit": 10000
     },
     "inputWidgets": {},
     "nuid": "80e166a8-35e9-4bfd-8773-595d2a2dddb9",
     "showTitle": false,
     "tableResultSettingsMap": {},
     "title": ""
    }
   },
   "outputs": [],
   "source": [
    "# --- DeepSeek Summary Function ---\n",
    "def summarize_with_deepseek(text):\n",
    "    if not text:\n",
    "        return None\n",
    "    try:\n",
    "        headers = {\n",
    "            \"Authorization\": f\"Bearer {OPENROUTER_API_KEY}\",\n",
    "            \"Content-Type\": \"application/json\",\n",
    "            \"HTTP-Referer\": \"https://kukushorts.ai\",  # Replace with your actual domain or local dev URL\n",
    "            \"X-Title\": \"KukuShorts\"  # Your app/project name\n",
    "        }\n",
    "        data = {\n",
    "            \"model\": \"deepseek/deepseek-r1-zero:free\",\n",
    "            \"messages\": [\n",
    "                {\"role\": \"system\", \"content\": \"You are a helpful assistant that summarizes book descriptions.\"},\n",
    "                {\"role\": \"user\", \"content\": f\"Summarize this book: {text}\"}\n",
    "            ]\n",
    "        }\n",
    "        response = requests.post(\"https://openrouter.ai/api/v1/chat/completions\", headers=headers, data=json.dumps(data))\n",
    "        if response.status_code == 200:\n",
    "            result = response.json()\n",
    "            return result[\"choices\"][0][\"message\"][\"content\"].strip()\n",
    "        else:\n",
    "            print(\"DeepSeek Error:\", response.status_code, response.text)\n",
    "            return None\n",
    "    except Exception as e:\n",
    "        print(\"DeepSeek Exception:\", e)\n",
    "        return None\n",
    "\n",
    "# Register UDF for Summary\n",
    "summary_udf = udf(summarize_with_deepseek, StringType())\n",
    "\n",
    "# --- Read Silver Dataset ---\n",
    "df_silver = spark.read.parquet(silver_path)\n",
    "\n",
    "# --- Add Summary Column ---\n",
    "df_with_summary = df_silver.withColumn(\"Summary\", summary_udf(col(\"Description\")))\n",
    "\n",
    "# --- Azure TTS Function ---\n",
    "def generate_tts_and_return_path(title, summary):\n",
    "    if not summary:\n",
    "        return None\n",
    "    try:\n",
    "        url = f\"https://{AZURE_REGION}.tts.speech.microsoft.com/cognitiveservices/v1\"\n",
    "        headers = {\n",
    "            \"Ocp-Apim-Subscription-Key\": AZURE_TTS_KEY,\n",
    "            \"Content-Type\": \"application/ssml+xml\",\n",
    "            \"X-Microsoft-OutputFormat\": \"audio-16khz-128kbitrate-mono-mp3\"\n",
    "        }\n",
    "        ssml = f\"\"\"<speak version='1.0' xml:lang='en-US'>\n",
    "            <voice xml:lang='en-US' name='en-US-GuyNeural'>\n",
    "                {summary}\n",
    "            </voice>\n",
    "        </speak>\"\"\"\n",
    "        response = requests.post(url, headers=headers, data=ssml.encode(\"utf-8\"))\n",
    "\n",
    "        if response.status_code == 200:\n",
    "            safe_title = \"\".join([c for c in title if c.isalnum() or c in (' ', '-', '_')]).rstrip()\n",
    "            file_name = f\"{safe_title}.mp3\"\n",
    "            file_path = f\"/dbfs/mnt/kkstoragemo/gold/audio_summaries/{file_name}\"\n",
    "\n",
    "            os.makedirs(os.path.dirname(file_path), exist_ok=True)\n",
    "            with open(file_path, \"wb\") as audio_file:\n",
    "                audio_file.write(response.content)\n",
    "\n",
    "            return f\"{gold_audio_base_uri}{file_name}\"\n",
    "        else:\n",
    "            print(\"TTS Error:\", response.status_code, response.text)\n",
    "            return None\n",
    "    except Exception as e:\n",
    "        print(\"TTS Exception:\", e)\n",
    "        return None\n",
    "\n",
    "# Register UDF for Audio Path\n",
    "tts_udf = udf(generate_tts_and_return_path, StringType())\n",
    "\n",
    "# --- Add AudioPath Column ---\n",
    "df_gold = df_with_summary.withColumn(\"AudioPath\", tts_udf(col(\"Title\"), col(\"Summary\")))\n",
    "\n",
    "# --- Write to Gold ---\n",
    "df_gold.write.mode(\"overwrite\").parquet(gold_path)"
   ]
  },
  {
   "cell_type": "code",
   "execution_count": 0,
   "metadata": {
    "application/vnd.databricks.v1+cell": {
     "cellMetadata": {
      "byteLimit": 2048000,
      "rowLimit": 10000
     },
     "inputWidgets": {},
     "nuid": "99f02239-8400-4263-a367-6ba0707ef2d8",
     "showTitle": false,
     "tableResultSettingsMap": {},
     "title": ""
    }
   },
   "outputs": [
    {
     "output_type": "stream",
     "name": "stdout",
     "output_type": "stream",
     "text": [
      "+------------------+---------------------+\n|Null_Summary_Count|NonNull_Summary_Count|\n+------------------+---------------------+\n|                 1|                   49|\n+------------------+---------------------+\n\n"
     ]
    }
   ],
   "source": [
    "from pyspark.sql.functions import col, count, when\n",
    "\n",
    "# Load your gold dataset\n",
    "df_gold = spark.read.parquet(gold_path)\n",
    "\n",
    "# Check how many rows have Summary as null and non-null\n",
    "df_gold.select(\n",
    "    count(when(col(\"Summary\").isNull(), True)).alias(\"Null_Summary_Count\"),\n",
    "    count(when(col(\"Summary\").isNotNull(), True)).alias(\"NonNull_Summary_Count\")\n",
    ").show()"
   ]
  },
  {
   "cell_type": "code",
   "execution_count": 0,
   "metadata": {
    "application/vnd.databricks.v1+cell": {
     "cellMetadata": {
      "byteLimit": 2048000,
      "rowLimit": 10000
     },
     "inputWidgets": {},
     "nuid": "396027ca-8478-488c-a49a-725a7e1a0133",
     "showTitle": false,
     "tableResultSettingsMap": {},
     "title": ""
    }
   },
   "outputs": [
    {
     "output_type": "stream",
     "name": "stdout",
     "output_type": "stream",
     "text": [
      "✅ Saved: abfss://gold@kkstoragemo.dfs.core.windows.net/audio_summaries/Goat_Brothers.mp3\n✅ Saved: abfss://gold@kkstoragemo.dfs.core.windows.net/audio_summaries/The_Missing_Person.mp3\n✅ Saved: abfss://gold@kkstoragemo.dfs.core.windows.net/audio_summaries/Don't_Eat_Your_Heart_Out_Cookb.mp3\n✅ Saved: abfss://gold@kkstoragemo.dfs.core.windows.net/audio_summaries/When_Your_Corporate_Umbrella_B.mp3\n✅ Saved: abfss://gold@kkstoragemo.dfs.core.windows.net/audio_summaries/Amy_Spangler's_Breastfeeding__.mp3\n✅ Saved: abfss://gold@kkstoragemo.dfs.core.windows.net/audio_summaries/The_Foundation_of_Leadership__.mp3\n✅ Saved: abfss://gold@kkstoragemo.dfs.core.windows.net/audio_summaries/Chicken_Soup_for_the_Soul__101.mp3\n✅ Saved: abfss://gold@kkstoragemo.dfs.core.windows.net/audio_summaries/Journey_Through_Heartsongs.mp3\n✅ Saved: abfss://gold@kkstoragemo.dfs.core.windows.net/audio_summaries/In_Search_of_Melancholy_Baby.mp3\n✅ Saved: abfss://gold@kkstoragemo.dfs.core.windows.net/audio_summaries/Christmas_Cookies.mp3\n✅ Saved: abfss://gold@kkstoragemo.dfs.core.windows.net/audio_summaries/The_Dieter's_Guide_to_Weight_L.mp3\n✅ Saved: abfss://gold@kkstoragemo.dfs.core.windows.net/audio_summaries/Germs___Biological_Weapons_and.mp3\n✅ Saved: abfss://gold@kkstoragemo.dfs.core.windows.net/audio_summaries/The_Genesis_of_Ethics.mp3\n✅ Saved: abfss://gold@kkstoragemo.dfs.core.windows.net/audio_summaries/The_Good_Book__Reading_the_Bib.mp3\n✅ Saved: abfss://gold@kkstoragemo.dfs.core.windows.net/audio_summaries/All_over_but_the_Shoutin'.mp3\n✅ Saved: abfss://gold@kkstoragemo.dfs.core.windows.net/audio_summaries/Oilers_and_Sweepers_and_Other_.mp3\n✅ Saved: abfss://gold@kkstoragemo.dfs.core.windows.net/audio_summaries/Prince_William.mp3\n✅ Saved: abfss://gold@kkstoragemo.dfs.core.windows.net/audio_summaries/The_Emperor's_New_Mind.mp3\n✅ Saved: abfss://gold@kkstoragemo.dfs.core.windows.net/audio_summaries/Touching_Fire__Erotic_Writings.mp3\n✅ Saved: abfss://gold@kkstoragemo.dfs.core.windows.net/audio_summaries/Hill_Rat__Blowing_the_Lid_Off_.mp3\n✅ Saved: abfss://gold@kkstoragemo.dfs.core.windows.net/audio_summaries/Personality_of_the_Cat.mp3\n✅ Saved: abfss://gold@kkstoragemo.dfs.core.windows.net/audio_summaries/Murdering_Mr._Monti__A_Merry_L.mp3\n✅ Saved: abfss://gold@kkstoragemo.dfs.core.windows.net/audio_summaries/In_Re_Alger_Hiss___Petition_fo.mp3\n✅ Saved: abfss://gold@kkstoragemo.dfs.core.windows.net/audio_summaries/Black_Holes_and_Baby_Universes.mp3\n✅ Saved: abfss://gold@kkstoragemo.dfs.core.windows.net/audio_summaries/Relativity__The_Special_and_th.mp3\n✅ Saved: abfss://gold@kkstoragemo.dfs.core.windows.net/audio_summaries/Betrayal___How_the_Clinton_Adm.mp3\n✅ Saved: abfss://gold@kkstoragemo.dfs.core.windows.net/audio_summaries/Shadow_Song.mp3\n✅ Saved: abfss://gold@kkstoragemo.dfs.core.windows.net/audio_summaries/Undercurrents__A_Therapist's_R.mp3\n✅ Saved: abfss://gold@kkstoragemo.dfs.core.windows.net/audio_summaries/The_Road_Less_Traveled_and_Bey.mp3\n✅ Saved: abfss://gold@kkstoragemo.dfs.core.windows.net/audio_summaries/The_Kiss__A_Memoir.mp3\n✅ Saved: abfss://gold@kkstoragemo.dfs.core.windows.net/audio_summaries/Codebreakers'_Victory__How_the.mp3\n✅ Saved: abfss://gold@kkstoragemo.dfs.core.windows.net/audio_summaries/A_Manual_for_Writers_of_Term_P.mp3\n✅ Saved: abfss://gold@kkstoragemo.dfs.core.windows.net/audio_summaries/The_Price_of_Loyalty__George_W.mp3\n✅ Saved: abfss://gold@kkstoragemo.dfs.core.windows.net/audio_summaries/Best_New_American_Voices_2003.mp3\n✅ Saved: abfss://gold@kkstoragemo.dfs.core.windows.net/audio_summaries/Escape_from_the_CIA__How_the_C.mp3\n✅ Saved: abfss://gold@kkstoragemo.dfs.core.windows.net/audio_summaries/Meditations__On_the_Monk_Who_D.mp3\n✅ Saved: abfss://gold@kkstoragemo.dfs.core.windows.net/audio_summaries/Links_Lore.mp3\n✅ Saved: abfss://gold@kkstoragemo.dfs.core.windows.net/audio_summaries/Jackie_by_Josie__A_Novel.mp3\n✅ Saved: abfss://gold@kkstoragemo.dfs.core.windows.net/audio_summaries/Joshua_and_the_City.mp3\n✅ Saved: abfss://gold@kkstoragemo.dfs.core.windows.net/audio_summaries/The_Book_of_Courtly_Love__The_.mp3\n✅ Saved: abfss://gold@kkstoragemo.dfs.core.windows.net/audio_summaries/How_Good_Do_We_Have_to_Be?_A_N.mp3\n✅ Saved: abfss://gold@kkstoragemo.dfs.core.windows.net/audio_summaries/Eat_More,_Weigh_Less__Dr._Dean.mp3\n✅ Saved: abfss://gold@kkstoragemo.dfs.core.windows.net/audio_summaries/Majorca__Culture_and_Life.mp3\n✅ Saved: abfss://gold@kkstoragemo.dfs.core.windows.net/audio_summaries/Written_by_Herself__Autobiogra.mp3\n✅ Saved: abfss://gold@kkstoragemo.dfs.core.windows.net/audio_summaries/The_Universe_of_Galaxies.mp3\n✅ Saved: abfss://gold@kkstoragemo.dfs.core.windows.net/audio_summaries/Ice_Bound__A_Doctor's_Incredib.mp3\n✅ Saved: abfss://gold@kkstoragemo.dfs.core.windows.net/audio_summaries/Healing_Benefits_of_Garlic.mp3\n✅ Saved: abfss://gold@kkstoragemo.dfs.core.windows.net/audio_summaries/Me_and_Ted_Against_the_World__.mp3\n✅ Saved: abfss://gold@kkstoragemo.dfs.core.windows.net/audio_summaries/Magnet_Therapy__The_Pain_Cure_.mp3\n"
     ]
    }
   ],
   "source": [
    "import requests\n",
    "import os\n",
    "from xml.sax.saxutils import escape\n",
    "from pyspark.sql.functions import col\n",
    "\n",
    "# Azure TTS credentials\n",
    "tts_key = \"9N88zutUMyvLzYhRbvFJOKpcYE6bQMuf0pkvauAAQIHvHPuSr7wXJQQJ99BDACLArgHXJ3w3AAAYACOGdsmf\"\n",
    "tts_region = \"southcentralus\"\n",
    "\n",
    "# Step 1: Filter non-null TTSInput\n",
    "rows = df_gold_filled.select(\"Title\", \"TTSInput\").where(col(\"TTSInput\").isNotNull()).collect()\n",
    "\n",
    "# Step 2: TTS generation function\n",
    "def generate_tts(text, title):\n",
    "    filename = title.replace(\" \", \"_\").replace(\"/\", \"_\").replace(\":\", \"_\")[:30]\n",
    "    local_path = f\"/tmp/{filename}.mp3\"\n",
    "    abfss_path = f\"abfss://gold@kkstoragemo.dfs.core.windows.net/audio_summaries/{filename}.mp3\"\n",
    "\n",
    "    escaped_text = escape(text)\n",
    "\n",
    "    endpoint = f\"https://{tts_region}.tts.speech.microsoft.com/cognitiveservices/v1\"\n",
    "    headers = {\n",
    "        \"Ocp-Apim-Subscription-Key\": tts_key,\n",
    "        \"Content-Type\": \"application/ssml+xml\",\n",
    "        \"X-Microsoft-OutputFormat\": \"audio-16khz-32kbitrate-mono-mp3\"\n",
    "    }\n",
    "\n",
    "    ssml = f\"\"\"\n",
    "    <speak version='1.0' xml:lang='en-US'>\n",
    "        <voice xml:lang='en-US' xml:gender='Female' name='en-US-AriaNeural'>\n",
    "            {escaped_text}\n",
    "        </voice>\n",
    "    </speak>\n",
    "    \"\"\"\n",
    "\n",
    "    try:\n",
    "        response = requests.post(endpoint, headers=headers, data=ssml.encode(\"utf-8\"))\n",
    "        if response.status_code == 200:\n",
    "            with open(local_path, \"wb\") as f:\n",
    "                f.write(response.content)\n",
    "            dbutils.fs.cp(f\"file:{local_path}\", abfss_path)\n",
    "            print(f\"✅ Saved: {abfss_path}\")\n",
    "        else:\n",
    "            print(f\"❌ TTS Error ({response.status_code}): {title}\")\n",
    "    except Exception as e:\n",
    "        print(f\"⚠️ Error for {title}: {str(e)}\")\n",
    "\n",
    "# Step 3: Loop through rows and generate\n",
    "for row in rows:\n",
    "    title = row[\"Title\"]\n",
    "    text = row[\"TTSInput\"].replace(\"\\\\boxed{\", \"\").replace(\"}\", \"\").strip()\n",
    "    generate_tts(text, title)"
   ]
  }
 ],
 "metadata": {
  "application/vnd.databricks.v1+notebook": {
   "computePreferences": null,
   "dashboards": [],
   "environmentMetadata": {
    "base_environment": "",
    "environment_version": "2"
   },
   "inputWidgetPreferences": null,
   "language": "python",
   "notebookMetadata": {
    "pythonIndentUnit": 4
   },
   "notebookName": "silver-to-gold",
   "widgets": {}
  },
  "language_info": {
   "name": "python"
  }
 },
 "nbformat": 4,
 "nbformat_minor": 0
}